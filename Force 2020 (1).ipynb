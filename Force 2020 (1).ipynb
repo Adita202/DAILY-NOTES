{
 "cells": [
  {
   "cell_type": "code",
   "execution_count": 1,
   "id": "d32c339c-33ad-49ce-b0f7-b816a529ff94",
   "metadata": {},
   "outputs": [],
   "source": [
    "import pandas as pd\n",
    "import matplotlib.pyplot as plt\n",
    "import seaborn as sns\n",
    "import matplotlib.cm as cm\n",
    "from sklearn.cluster import KMeans\n",
    "from sklearn.preprocessing import StandardScaler, MinMaxScaler"
   ]
  },
  {
   "cell_type": "code",
   "execution_count": 2,
   "id": "7f4e5d02-f4e9-4061-a5f0-a033b9bff1f6",
   "metadata": {},
   "outputs": [
    {
     "data": {
      "text/html": [
       "<div>\n",
       "<style scoped>\n",
       "    .dataframe tbody tr th:only-of-type {\n",
       "        vertical-align: middle;\n",
       "    }\n",
       "\n",
       "    .dataframe tbody tr th {\n",
       "        vertical-align: top;\n",
       "    }\n",
       "\n",
       "    .dataframe thead th {\n",
       "        text-align: right;\n",
       "    }\n",
       "</style>\n",
       "<table border=\"1\" class=\"dataframe\">\n",
       "  <thead>\n",
       "    <tr style=\"text-align: right;\">\n",
       "      <th></th>\n",
       "      <th>RHOB</th>\n",
       "      <th>GR</th>\n",
       "      <th>DEPTH_MD</th>\n",
       "      <th>NPHI</th>\n",
       "      <th>PEF</th>\n",
       "      <th>DTC</th>\n",
       "    </tr>\n",
       "  </thead>\n",
       "  <tbody>\n",
       "    <tr>\n",
       "      <th>0</th>\n",
       "      <td>1.884186</td>\n",
       "      <td>80.200851</td>\n",
       "      <td>494.528</td>\n",
       "      <td>NaN</td>\n",
       "      <td>20.915468</td>\n",
       "      <td>161.131180</td>\n",
       "    </tr>\n",
       "    <tr>\n",
       "      <th>1</th>\n",
       "      <td>1.889794</td>\n",
       "      <td>79.262886</td>\n",
       "      <td>494.680</td>\n",
       "      <td>NaN</td>\n",
       "      <td>19.383013</td>\n",
       "      <td>160.603470</td>\n",
       "    </tr>\n",
       "    <tr>\n",
       "      <th>2</th>\n",
       "      <td>1.896523</td>\n",
       "      <td>74.821999</td>\n",
       "      <td>494.832</td>\n",
       "      <td>NaN</td>\n",
       "      <td>22.591518</td>\n",
       "      <td>160.173615</td>\n",
       "    </tr>\n",
       "    <tr>\n",
       "      <th>3</th>\n",
       "      <td>1.891913</td>\n",
       "      <td>72.878922</td>\n",
       "      <td>494.984</td>\n",
       "      <td>NaN</td>\n",
       "      <td>32.191910</td>\n",
       "      <td>160.149429</td>\n",
       "    </tr>\n",
       "    <tr>\n",
       "      <th>4</th>\n",
       "      <td>1.880034</td>\n",
       "      <td>71.729141</td>\n",
       "      <td>495.136</td>\n",
       "      <td>NaN</td>\n",
       "      <td>38.495632</td>\n",
       "      <td>160.128342</td>\n",
       "    </tr>\n",
       "    <tr>\n",
       "      <th>...</th>\n",
       "      <td>...</td>\n",
       "      <td>...</td>\n",
       "      <td>...</td>\n",
       "      <td>...</td>\n",
       "      <td>...</td>\n",
       "      <td>...</td>\n",
       "    </tr>\n",
       "    <tr>\n",
       "      <th>18265</th>\n",
       "      <td>2.630211</td>\n",
       "      <td>19.418915</td>\n",
       "      <td>3271.416</td>\n",
       "      <td>0.187811</td>\n",
       "      <td>NaN</td>\n",
       "      <td>NaN</td>\n",
       "    </tr>\n",
       "    <tr>\n",
       "      <th>18266</th>\n",
       "      <td>2.643114</td>\n",
       "      <td>21.444370</td>\n",
       "      <td>3271.568</td>\n",
       "      <td>0.185574</td>\n",
       "      <td>NaN</td>\n",
       "      <td>NaN</td>\n",
       "    </tr>\n",
       "    <tr>\n",
       "      <th>18267</th>\n",
       "      <td>2.681300</td>\n",
       "      <td>22.646879</td>\n",
       "      <td>3271.720</td>\n",
       "      <td>0.176074</td>\n",
       "      <td>NaN</td>\n",
       "      <td>NaN</td>\n",
       "    </tr>\n",
       "    <tr>\n",
       "      <th>18268</th>\n",
       "      <td>2.738337</td>\n",
       "      <td>22.253584</td>\n",
       "      <td>3271.872</td>\n",
       "      <td>0.174617</td>\n",
       "      <td>NaN</td>\n",
       "      <td>NaN</td>\n",
       "    </tr>\n",
       "    <tr>\n",
       "      <th>18269</th>\n",
       "      <td>2.792922</td>\n",
       "      <td>19.829920</td>\n",
       "      <td>3272.024</td>\n",
       "      <td>0.176627</td>\n",
       "      <td>NaN</td>\n",
       "      <td>NaN</td>\n",
       "    </tr>\n",
       "  </tbody>\n",
       "</table>\n",
       "<p>18270 rows × 6 columns</p>\n",
       "</div>"
      ],
      "text/plain": [
       "           RHOB         GR  DEPTH_MD      NPHI        PEF         DTC\n",
       "0      1.884186  80.200851   494.528       NaN  20.915468  161.131180\n",
       "1      1.889794  79.262886   494.680       NaN  19.383013  160.603470\n",
       "2      1.896523  74.821999   494.832       NaN  22.591518  160.173615\n",
       "3      1.891913  72.878922   494.984       NaN  32.191910  160.149429\n",
       "4      1.880034  71.729141   495.136       NaN  38.495632  160.128342\n",
       "...         ...        ...       ...       ...        ...         ...\n",
       "18265  2.630211  19.418915  3271.416  0.187811        NaN         NaN\n",
       "18266  2.643114  21.444370  3271.568  0.185574        NaN         NaN\n",
       "18267  2.681300  22.646879  3271.720  0.176074        NaN         NaN\n",
       "18268  2.738337  22.253584  3271.872  0.174617        NaN         NaN\n",
       "18269  2.792922  19.829920  3272.024  0.176627        NaN         NaN\n",
       "\n",
       "[18270 rows x 6 columns]"
      ]
     },
     "execution_count": 2,
     "metadata": {},
     "output_type": "execute_result"
    }
   ],
   "source": [
    "df = pd.read_csv(\"C:\\\\Users\\\\hp\\\\Downloads\\\\force2020_data.csv\")\n",
    "df"
   ]
  },
  {
   "cell_type": "code",
   "execution_count": 3,
   "id": "7b7c571c-3c16-4034-bf8f-7ffbebde9cfc",
   "metadata": {},
   "outputs": [
    {
     "name": "stdout",
     "output_type": "stream",
     "text": [
      "<class 'pandas.core.frame.DataFrame'>\n",
      "RangeIndex: 18270 entries, 0 to 18269\n",
      "Data columns (total 6 columns):\n",
      " #   Column    Non-Null Count  Dtype  \n",
      "---  ------    --------------  -----  \n",
      " 0   RHOB      18270 non-null  float64\n",
      " 1   GR        18270 non-null  float64\n",
      " 2   DEPTH_MD  18270 non-null  float64\n",
      " 3   NPHI      14032 non-null  float64\n",
      " 4   PEF       16440 non-null  float64\n",
      " 5   DTC       18189 non-null  float64\n",
      "dtypes: float64(6)\n",
      "memory usage: 856.5 KB\n"
     ]
    }
   ],
   "source": [
    "df.info()"
   ]
  },
  {
   "cell_type": "code",
   "execution_count": 4,
   "id": "7b31fe00-2b6d-435f-871e-a99386f47663",
   "metadata": {},
   "outputs": [
    {
     "data": {
      "text/html": [
       "<div>\n",
       "<style scoped>\n",
       "    .dataframe tbody tr th:only-of-type {\n",
       "        vertical-align: middle;\n",
       "    }\n",
       "\n",
       "    .dataframe tbody tr th {\n",
       "        vertical-align: top;\n",
       "    }\n",
       "\n",
       "    .dataframe thead th {\n",
       "        text-align: right;\n",
       "    }\n",
       "</style>\n",
       "<table border=\"1\" class=\"dataframe\">\n",
       "  <thead>\n",
       "    <tr style=\"text-align: right;\">\n",
       "      <th></th>\n",
       "      <th>RHOB</th>\n",
       "      <th>GR</th>\n",
       "      <th>DEPTH_MD</th>\n",
       "      <th>NPHI</th>\n",
       "      <th>PEF</th>\n",
       "      <th>DTC</th>\n",
       "    </tr>\n",
       "  </thead>\n",
       "  <tbody>\n",
       "    <tr>\n",
       "      <th>count</th>\n",
       "      <td>18270.000000</td>\n",
       "      <td>18270.000000</td>\n",
       "      <td>18270.000000</td>\n",
       "      <td>14032.000000</td>\n",
       "      <td>16440.000000</td>\n",
       "      <td>18189.000000</td>\n",
       "    </tr>\n",
       "    <tr>\n",
       "      <th>mean</th>\n",
       "      <td>2.110451</td>\n",
       "      <td>63.847477</td>\n",
       "      <td>1883.228478</td>\n",
       "      <td>0.404547</td>\n",
       "      <td>3.463851</td>\n",
       "      <td>125.106178</td>\n",
       "    </tr>\n",
       "    <tr>\n",
       "      <th>std</th>\n",
       "      <td>0.297725</td>\n",
       "      <td>28.636331</td>\n",
       "      <td>801.941195</td>\n",
       "      <td>0.133532</td>\n",
       "      <td>2.561239</td>\n",
       "      <td>30.618337</td>\n",
       "    </tr>\n",
       "    <tr>\n",
       "      <th>min</th>\n",
       "      <td>1.404576</td>\n",
       "      <td>6.191506</td>\n",
       "      <td>494.528000</td>\n",
       "      <td>0.024330</td>\n",
       "      <td>1.010027</td>\n",
       "      <td>55.726753</td>\n",
       "    </tr>\n",
       "    <tr>\n",
       "      <th>25%</th>\n",
       "      <td>1.963399</td>\n",
       "      <td>43.866690</td>\n",
       "      <td>1188.750000</td>\n",
       "      <td>0.315346</td>\n",
       "      <td>2.320836</td>\n",
       "      <td>90.883087</td>\n",
       "    </tr>\n",
       "    <tr>\n",
       "      <th>50%</th>\n",
       "      <td>2.055079</td>\n",
       "      <td>66.777851</td>\n",
       "      <td>1882.972000</td>\n",
       "      <td>0.448527</td>\n",
       "      <td>2.790249</td>\n",
       "      <td>141.300461</td>\n",
       "    </tr>\n",
       "    <tr>\n",
       "      <th>75%</th>\n",
       "      <td>2.381963</td>\n",
       "      <td>81.542681</td>\n",
       "      <td>2577.802000</td>\n",
       "      <td>0.506343</td>\n",
       "      <td>4.267342</td>\n",
       "      <td>148.048355</td>\n",
       "    </tr>\n",
       "    <tr>\n",
       "      <th>max</th>\n",
       "      <td>2.927888</td>\n",
       "      <td>499.022583</td>\n",
       "      <td>3272.024000</td>\n",
       "      <td>0.800262</td>\n",
       "      <td>66.030319</td>\n",
       "      <td>175.953140</td>\n",
       "    </tr>\n",
       "  </tbody>\n",
       "</table>\n",
       "</div>"
      ],
      "text/plain": [
       "               RHOB            GR      DEPTH_MD          NPHI           PEF  \\\n",
       "count  18270.000000  18270.000000  18270.000000  14032.000000  16440.000000   \n",
       "mean       2.110451     63.847477   1883.228478      0.404547      3.463851   \n",
       "std        0.297725     28.636331    801.941195      0.133532      2.561239   \n",
       "min        1.404576      6.191506    494.528000      0.024330      1.010027   \n",
       "25%        1.963399     43.866690   1188.750000      0.315346      2.320836   \n",
       "50%        2.055079     66.777851   1882.972000      0.448527      2.790249   \n",
       "75%        2.381963     81.542681   2577.802000      0.506343      4.267342   \n",
       "max        2.927888    499.022583   3272.024000      0.800262     66.030319   \n",
       "\n",
       "                DTC  \n",
       "count  18189.000000  \n",
       "mean     125.106178  \n",
       "std       30.618337  \n",
       "min       55.726753  \n",
       "25%       90.883087  \n",
       "50%      141.300461  \n",
       "75%      148.048355  \n",
       "max      175.953140  "
      ]
     },
     "execution_count": 4,
     "metadata": {},
     "output_type": "execute_result"
    }
   ],
   "source": [
    "df.describe()"
   ]
  },
  {
   "cell_type": "code",
   "execution_count": 5,
   "id": "da22f94a-efee-44e9-b329-8652cc010704",
   "metadata": {},
   "outputs": [
    {
     "data": {
      "text/plain": [
       "RHOB           0\n",
       "GR             0\n",
       "DEPTH_MD       0\n",
       "NPHI        4238\n",
       "PEF         1830\n",
       "DTC           81\n",
       "dtype: int64"
      ]
     },
     "execution_count": 5,
     "metadata": {},
     "output_type": "execute_result"
    }
   ],
   "source": [
    "df.isna().sum()\n",
    "\n",
    "#dropping the missing values may affect the dataset size"
   ]
  },
  {
   "cell_type": "code",
   "execution_count": 6,
   "id": "6173782b-66e9-4db1-950b-bfdf7c280474",
   "metadata": {},
   "outputs": [
    {
     "data": {
      "text/plain": [
       "0        False\n",
       "1        False\n",
       "2        False\n",
       "3        False\n",
       "4        False\n",
       "         ...  \n",
       "18265    False\n",
       "18266    False\n",
       "18267    False\n",
       "18268    False\n",
       "18269    False\n",
       "Length: 18270, dtype: bool"
      ]
     },
     "execution_count": 6,
     "metadata": {},
     "output_type": "execute_result"
    }
   ],
   "source": [
    "df.duplicated()"
   ]
  },
  {
   "cell_type": "code",
   "execution_count": 7,
   "id": "419e69ee-4842-4970-9b71-70393a07bdfc",
   "metadata": {},
   "outputs": [
    {
     "data": {
      "text/plain": [
       "0"
      ]
     },
     "execution_count": 7,
     "metadata": {},
     "output_type": "execute_result"
    }
   ],
   "source": [
    "df.duplicated().sum()"
   ]
  },
  {
   "cell_type": "code",
   "execution_count": 8,
   "id": "6f90275d-74a5-4673-80c3-75b85a9068ea",
   "metadata": {},
   "outputs": [],
   "source": [
    "# df = df.dropna()\n",
    "# df\n",
    "#this can't be dropped"
   ]
  },
  {
   "cell_type": "markdown",
   "id": "f22dd7a3-1b43-4469-a9fe-104ee83be948",
   "metadata": {},
   "source": [
    "### Filling missing values"
   ]
  },
  {
   "cell_type": "code",
   "execution_count": 10,
   "id": "f40531e3-265a-4d06-ab6c-40bbf33f5d38",
   "metadata": {},
   "outputs": [],
   "source": [
    "# num_df = df.select_dtypes(include=\"number\")\n",
    "# cat_df = df.select_dtypes(include=\"object_\")"
   ]
  },
  {
   "cell_type": "code",
   "execution_count": 11,
   "id": "c318a4e1-4193-414b-8405-f492ca1dc59d",
   "metadata": {},
   "outputs": [],
   "source": [
    "# print(\"Numerical columns are\")\n",
    "# num_cols = num_df.columns.tolist()\n",
    "# print(num_cols)\n",
    "\n",
    "# cat_cols = cat_df.columns.tolist()\n",
    "# print(\"Categorical columns are\")\n",
    "# print(cat_cols)"
   ]
  },
  {
   "cell_type": "code",
   "execution_count": 12,
   "id": "9c1ef346-6915-4035-bde8-cfd7df32442a",
   "metadata": {},
   "outputs": [],
   "source": [
    "# for col in num_cols:\n",
    "#   num_df[col] = num_df[col].fillna(num_df[col].median())"
   ]
  },
  {
   "cell_type": "code",
   "execution_count": 13,
   "id": "8a6a45e3-b04a-4e13-ac2c-6e580df3850e",
   "metadata": {},
   "outputs": [],
   "source": [
    "# num_df.isna().sum()"
   ]
  },
  {
   "cell_type": "code",
   "execution_count": 14,
   "id": "596069a8-4f4a-49ec-9270-a59a8ea0c1e8",
   "metadata": {},
   "outputs": [],
   "source": [
    "for col in df:\n",
    "    df[col] = df[col].fillna(df[col].median())\n",
    "\n",
    "## Since nocategorical columns(no object), we didn't split them"
   ]
  },
  {
   "cell_type": "code",
   "execution_count": 15,
   "id": "2c916f2b-c228-4d82-bdf4-91725e4dd2f6",
   "metadata": {},
   "outputs": [
    {
     "data": {
      "text/plain": [
       "RHOB        0\n",
       "GR          0\n",
       "DEPTH_MD    0\n",
       "NPHI        0\n",
       "PEF         0\n",
       "DTC         0\n",
       "dtype: int64"
      ]
     },
     "execution_count": 15,
     "metadata": {},
     "output_type": "execute_result"
    }
   ],
   "source": [
    "df.isna().sum()"
   ]
  },
  {
   "cell_type": "code",
   "execution_count": 16,
   "id": "191e093e-95d2-425b-8686-cc333fd3063b",
   "metadata": {},
   "outputs": [
    {
     "data": {
      "image/png": "[encoded data removed]",
      "text/plain": [
       "<Figure size 640x480 with 1 Axes>"
      ]
     },
     "metadata": {},
     "output_type": "display_data"
    }
   ],
   "source": [
    "plt.boxplot(df)\n",
    "plt.show()"
   ]
  },
  {
   "cell_type": "code",
   "execution_count": 17,
   "id": "e54226b0-9826-4127-b133-4ea1a425e552",
   "metadata": {},
   "outputs": [],
   "source": [
    "def remove_outliers(df, column_name):\n",
    "    q1 = df[column_name].quantile(0.25)\n",
    "    q3 = df[column_name].quantile(0.75)\n",
    "    iqr = q3-q1\n",
    "    upper_bound = q3+1.5*iqr\n",
    "    lower_bound = q1-1.5*iqr\n",
    "    df[column_name] = df[column_name].clip(upper=upper_bound)\n",
    "    df[column_name] = df[column_name].clip(lower=lower_bound)\n",
    "    return df[column_name]"
   ]
  },
  {
   "cell_type": "code",
   "execution_count": 18,
   "id": "79098874-6747-4fe8-8032-f81604c8a6f6",
   "metadata": {},
   "outputs": [],
   "source": [
    "for col in df:\n",
    "    df[col] = remove_outliers(df, col)\n",
    "    \n"
   ]
  },
  {
   "cell_type": "code",
   "execution_count": 19,
   "id": "529588d2-673d-487f-9df4-0f8f0f778de7",
   "metadata": {},
   "outputs": [
    {
     "data": {
      "image/png": "[encoded data removed]",
      "text/plain": [
       "<Figure size 640x480 with 1 Axes>"
      ]
     },
     "metadata": {},
     "output_type": "display_data"
    }
   ],
   "source": [
    "df.boxplot()\n",
    "plt.xticks(rotation=45)\n",
    "plt.show()"
   ]
  },
  {
   "cell_type": "code",
   "execution_count": 20,
   "id": "013f8fb6-8512-4662-ba92-48d520082c47",
   "metadata": {},
   "outputs": [
    {
     "data": {
      "text/html": [
       "<div>\n",
       "<style scoped>\n",
       "    .dataframe tbody tr th:only-of-type {\n",
       "        vertical-align: middle;\n",
       "    }\n",
       "\n",
       "    .dataframe tbody tr th {\n",
       "        vertical-align: top;\n",
       "    }\n",
       "\n",
       "    .dataframe thead th {\n",
       "        text-align: right;\n",
       "    }\n",
       "</style>\n",
       "<table border=\"1\" class=\"dataframe\">\n",
       "  <thead>\n",
       "    <tr style=\"text-align: right;\">\n",
       "      <th></th>\n",
       "      <th>RHOB</th>\n",
       "      <th>GR</th>\n",
       "      <th>DEPTH_MD</th>\n",
       "      <th>NPHI</th>\n",
       "      <th>PEF</th>\n",
       "      <th>DTC</th>\n",
       "    </tr>\n",
       "  </thead>\n",
       "  <tbody>\n",
       "    <tr>\n",
       "      <th>18265</th>\n",
       "      <td>1.745819</td>\n",
       "      <td>-1.683564</td>\n",
       "      <td>1.731081</td>\n",
       "      <td>-1.966486</td>\n",
       "      <td>-0.307889</td>\n",
       "      <td>0.527422</td>\n",
       "    </tr>\n",
       "    <tr>\n",
       "      <th>18266</th>\n",
       "      <td>1.789158</td>\n",
       "      <td>-1.605864</td>\n",
       "      <td>1.731271</td>\n",
       "      <td>-1.985785</td>\n",
       "      <td>-0.307889</td>\n",
       "      <td>0.527422</td>\n",
       "    </tr>\n",
       "    <tr>\n",
       "      <th>18267</th>\n",
       "      <td>1.917421</td>\n",
       "      <td>-1.559734</td>\n",
       "      <td>1.731461</td>\n",
       "      <td>-2.067770</td>\n",
       "      <td>-0.307889</td>\n",
       "      <td>0.527422</td>\n",
       "    </tr>\n",
       "    <tr>\n",
       "      <th>18268</th>\n",
       "      <td>2.109002</td>\n",
       "      <td>-1.574822</td>\n",
       "      <td>1.731650</td>\n",
       "      <td>-2.080339</td>\n",
       "      <td>-0.307889</td>\n",
       "      <td>0.527422</td>\n",
       "    </tr>\n",
       "    <tr>\n",
       "      <th>18269</th>\n",
       "      <td>2.292346</td>\n",
       "      <td>-1.667797</td>\n",
       "      <td>1.731840</td>\n",
       "      <td>-2.062999</td>\n",
       "      <td>-0.307889</td>\n",
       "      <td>0.527422</td>\n",
       "    </tr>\n",
       "  </tbody>\n",
       "</table>\n",
       "</div>"
      ],
      "text/plain": [
       "           RHOB        GR  DEPTH_MD      NPHI       PEF       DTC\n",
       "18265  1.745819 -1.683564  1.731081 -1.966486 -0.307889  0.527422\n",
       "18266  1.789158 -1.605864  1.731271 -1.985785 -0.307889  0.527422\n",
       "18267  1.917421 -1.559734  1.731461 -2.067770 -0.307889  0.527422\n",
       "18268  2.109002 -1.574822  1.731650 -2.080339 -0.307889  0.527422\n",
       "18269  2.292346 -1.667797  1.731840 -2.062999 -0.307889  0.527422"
      ]
     },
     "execution_count": 20,
     "metadata": {},
     "output_type": "execute_result"
    }
   ],
   "source": [
    "std_scaler = StandardScaler()\n",
    "df[[\"RHOB\",\"GR\",\"DEPTH_MD\",\"NPHI\",\"PEF\",\"DTC\"]] = std_scaler.fit_transform(df[[\"RHOB\",\"GR\",\"DEPTH_MD\",\"NPHI\",\"PEF\",\"DTC\"]])\n",
    "df.tail()"
   ]
  },
  {
   "cell_type": "markdown",
   "id": "34802a8c-f6fe-4141-8c82-c1fd040ca12d",
   "metadata": {},
   "source": [
    "### K Means Clustering"
   ]
  },
  {
   "cell_type": "code",
   "execution_count": 22,
   "id": "f33ade67-d852-4418-a285-14183e2f2dcd",
   "metadata": {},
   "outputs": [
    {
     "data": {
      "text/html": [
       "<div>\n",
       "<style scoped>\n",
       "    .dataframe tbody tr th:only-of-type {\n",
       "        vertical-align: middle;\n",
       "    }\n",
       "\n",
       "    .dataframe tbody tr th {\n",
       "        vertical-align: top;\n",
       "    }\n",
       "\n",
       "    .dataframe thead th {\n",
       "        text-align: right;\n",
       "    }\n",
       "</style>\n",
       "<table border=\"1\" class=\"dataframe\">\n",
       "  <thead>\n",
       "    <tr style=\"text-align: right;\">\n",
       "      <th></th>\n",
       "      <th>RHOB</th>\n",
       "      <th>GR</th>\n",
       "      <th>DEPTH_MD</th>\n",
       "      <th>NPHI</th>\n",
       "      <th>PEF</th>\n",
       "      <th>DTC</th>\n",
       "    </tr>\n",
       "  </thead>\n",
       "  <tbody>\n",
       "    <tr>\n",
       "      <th>0</th>\n",
       "      <td>-0.759999</td>\n",
       "      <td>0.648114</td>\n",
       "      <td>-1.731721</td>\n",
       "      <td>0.283346</td>\n",
       "      <td>2.395861</td>\n",
       "      <td>1.176153</td>\n",
       "    </tr>\n",
       "    <tr>\n",
       "      <th>1</th>\n",
       "      <td>-0.741163</td>\n",
       "      <td>0.612133</td>\n",
       "      <td>-1.731532</td>\n",
       "      <td>0.283346</td>\n",
       "      <td>2.395861</td>\n",
       "      <td>1.158889</td>\n",
       "    </tr>\n",
       "    <tr>\n",
       "      <th>2</th>\n",
       "      <td>-0.718560</td>\n",
       "      <td>0.441774</td>\n",
       "      <td>-1.731342</td>\n",
       "      <td>0.283346</td>\n",
       "      <td>2.395861</td>\n",
       "      <td>1.144827</td>\n",
       "    </tr>\n",
       "    <tr>\n",
       "      <th>3</th>\n",
       "      <td>-0.734045</td>\n",
       "      <td>0.367235</td>\n",
       "      <td>-1.731152</td>\n",
       "      <td>0.283346</td>\n",
       "      <td>2.395861</td>\n",
       "      <td>1.144036</td>\n",
       "    </tr>\n",
       "    <tr>\n",
       "      <th>4</th>\n",
       "      <td>-0.773944</td>\n",
       "      <td>0.323128</td>\n",
       "      <td>-1.730963</td>\n",
       "      <td>0.283346</td>\n",
       "      <td>2.395861</td>\n",
       "      <td>1.143346</td>\n",
       "    </tr>\n",
       "  </tbody>\n",
       "</table>\n",
       "</div>"
      ],
      "text/plain": [
       "       RHOB        GR  DEPTH_MD      NPHI       PEF       DTC\n",
       "0 -0.759999  0.648114 -1.731721  0.283346  2.395861  1.176153\n",
       "1 -0.741163  0.612133 -1.731532  0.283346  2.395861  1.158889\n",
       "2 -0.718560  0.441774 -1.731342  0.283346  2.395861  1.144827\n",
       "3 -0.734045  0.367235 -1.731152  0.283346  2.395861  1.144036\n",
       "4 -0.773944  0.323128 -1.730963  0.283346  2.395861  1.143346"
      ]
     },
     "execution_count": 22,
     "metadata": {},
     "output_type": "execute_result"
    }
   ],
   "source": [
    "X = df[[\"RHOB\", \"GR\", \"DEPTH_MD\",\"NPHI\",\"PEF\",\"DTC\"]]\n",
    "X.head()"
   ]
  },
  {
   "cell_type": "code",
   "execution_count": 23,
   "id": "b91d7f85-77c5-4c93-8621-bf236168041d",
   "metadata": {},
   "outputs": [],
   "source": [
    "wcss = []   #WithinClusterSumofSquares\n",
    "for i in range(1,11):\n",
    "    kmeans = KMeans(n_clusters = i, init = \"k-means++\",\n",
    "                   max_iter = 500, n_init = 10, random_state = 0)\n",
    "    kmeans.fit(X)\n",
    "    wcss.append(kmeans.inertia_)"
   ]
  },
  {
   "cell_type": "code",
   "execution_count": 24,
   "id": "43b0ddae-ce60-4090-9d89-da686cb6f2db",
   "metadata": {},
   "outputs": [
    {
     "data": {
      "image/png": "[encoded data removed]",
      "text/plain": [
       "<Figure size 1000x600 with 1 Axes>"
      ]
     },
     "metadata": {},
     "output_type": "display_data"
    }
   ],
   "source": [
    "#Plotting Elbow Method\n",
    "\n",
    "plt.figure(figsize = (10,6))\n",
    "plt.plot(range(1,11), wcss, marker=\"o\")\n",
    "plt.title(\"Elbow Method\")\n",
    "plt.xlabel(\"No of Clusters\")\n",
    "plt.ylabel(\"WCSS\")\n",
    "plt.show()"
   ]
  },
  {
   "cell_type": "code",
   "execution_count": 25,
   "id": "28a57c52-c9ba-41f4-ac7f-0f3e64f44e43",
   "metadata": {},
   "outputs": [],
   "source": [
    "# applying kmeans clustering with optimal number of clusters\n",
    "kmeans = KMeans(n_clusters = 5, init = 'k-means++',\n",
    "                max_iter = 500, n_init = 10, random_state = 0)\n",
    "\n",
    "y_kmeans = kmeans.fit_predict(X)"
   ]
  },
  {
   "cell_type": "code",
   "execution_count": 26,
   "id": "c4b2ab98-6fd1-405a-adae-d9175c3b6a2d",
   "metadata": {},
   "outputs": [
    {
     "data": {
      "text/html": [
       "<div>\n",
       "<style scoped>\n",
       "    .dataframe tbody tr th:only-of-type {\n",
       "        vertical-align: middle;\n",
       "    }\n",
       "\n",
       "    .dataframe tbody tr th {\n",
       "        vertical-align: top;\n",
       "    }\n",
       "\n",
       "    .dataframe thead th {\n",
       "        text-align: right;\n",
       "    }\n",
       "</style>\n",
       "<table border=\"1\" class=\"dataframe\">\n",
       "  <thead>\n",
       "    <tr style=\"text-align: right;\">\n",
       "      <th></th>\n",
       "      <th>RHOB</th>\n",
       "      <th>GR</th>\n",
       "      <th>DEPTH_MD</th>\n",
       "      <th>NPHI</th>\n",
       "      <th>PEF</th>\n",
       "      <th>DTC</th>\n",
       "      <th>Cluster</th>\n",
       "    </tr>\n",
       "  </thead>\n",
       "  <tbody>\n",
       "    <tr>\n",
       "      <th>18265</th>\n",
       "      <td>1.745819</td>\n",
       "      <td>-1.683564</td>\n",
       "      <td>1.731081</td>\n",
       "      <td>-1.966486</td>\n",
       "      <td>-0.307889</td>\n",
       "      <td>0.527422</td>\n",
       "      <td>1</td>\n",
       "    </tr>\n",
       "    <tr>\n",
       "      <th>18266</th>\n",
       "      <td>1.789158</td>\n",
       "      <td>-1.605864</td>\n",
       "      <td>1.731271</td>\n",
       "      <td>-1.985785</td>\n",
       "      <td>-0.307889</td>\n",
       "      <td>0.527422</td>\n",
       "      <td>1</td>\n",
       "    </tr>\n",
       "    <tr>\n",
       "      <th>18267</th>\n",
       "      <td>1.917421</td>\n",
       "      <td>-1.559734</td>\n",
       "      <td>1.731461</td>\n",
       "      <td>-2.067770</td>\n",
       "      <td>-0.307889</td>\n",
       "      <td>0.527422</td>\n",
       "      <td>1</td>\n",
       "    </tr>\n",
       "    <tr>\n",
       "      <th>18268</th>\n",
       "      <td>2.109002</td>\n",
       "      <td>-1.574822</td>\n",
       "      <td>1.731650</td>\n",
       "      <td>-2.080339</td>\n",
       "      <td>-0.307889</td>\n",
       "      <td>0.527422</td>\n",
       "      <td>1</td>\n",
       "    </tr>\n",
       "    <tr>\n",
       "      <th>18269</th>\n",
       "      <td>2.292346</td>\n",
       "      <td>-1.667797</td>\n",
       "      <td>1.731840</td>\n",
       "      <td>-2.062999</td>\n",
       "      <td>-0.307889</td>\n",
       "      <td>0.527422</td>\n",
       "      <td>1</td>\n",
       "    </tr>\n",
       "  </tbody>\n",
       "</table>\n",
       "</div>"
      ],
      "text/plain": [
       "           RHOB        GR  DEPTH_MD      NPHI       PEF       DTC  Cluster\n",
       "18265  1.745819 -1.683564  1.731081 -1.966486 -0.307889  0.527422        1\n",
       "18266  1.789158 -1.605864  1.731271 -1.985785 -0.307889  0.527422        1\n",
       "18267  1.917421 -1.559734  1.731461 -2.067770 -0.307889  0.527422        1\n",
       "18268  2.109002 -1.574822  1.731650 -2.080339 -0.307889  0.527422        1\n",
       "18269  2.292346 -1.667797  1.731840 -2.062999 -0.307889  0.527422        1"
      ]
     },
     "execution_count": 26,
     "metadata": {},
     "output_type": "execute_result"
    }
   ],
   "source": [
    "df['Cluster'] = y_kmeans\n",
    "df.tail()"
   ]
  },
  {
   "cell_type": "code",
   "execution_count": 27,
   "id": "2f388e98-f56f-49c5-aa28-4c9208d5ae82",
   "metadata": {},
   "outputs": [
    {
     "data": {
      "text/html": [
       "<div>\n",
       "<style scoped>\n",
       "    .dataframe tbody tr th:only-of-type {\n",
       "        vertical-align: middle;\n",
       "    }\n",
       "\n",
       "    .dataframe tbody tr th {\n",
       "        vertical-align: top;\n",
       "    }\n",
       "\n",
       "    .dataframe thead th {\n",
       "        text-align: right;\n",
       "    }\n",
       "</style>\n",
       "<table border=\"1\" class=\"dataframe\">\n",
       "  <thead>\n",
       "    <tr style=\"text-align: right;\">\n",
       "      <th></th>\n",
       "      <th>RHOB</th>\n",
       "      <th>GR</th>\n",
       "      <th>DEPTH_MD</th>\n",
       "      <th>NPHI</th>\n",
       "      <th>PEF</th>\n",
       "      <th>DTC</th>\n",
       "      <th>Cluster</th>\n",
       "    </tr>\n",
       "  </thead>\n",
       "  <tbody>\n",
       "    <tr>\n",
       "      <th>18265</th>\n",
       "      <td>1.745819</td>\n",
       "      <td>-1.683564</td>\n",
       "      <td>1.731081</td>\n",
       "      <td>-1.966486</td>\n",
       "      <td>-0.307889</td>\n",
       "      <td>0.527422</td>\n",
       "      <td>1</td>\n",
       "    </tr>\n",
       "    <tr>\n",
       "      <th>18266</th>\n",
       "      <td>1.789158</td>\n",
       "      <td>-1.605864</td>\n",
       "      <td>1.731271</td>\n",
       "      <td>-1.985785</td>\n",
       "      <td>-0.307889</td>\n",
       "      <td>0.527422</td>\n",
       "      <td>1</td>\n",
       "    </tr>\n",
       "    <tr>\n",
       "      <th>18267</th>\n",
       "      <td>1.917421</td>\n",
       "      <td>-1.559734</td>\n",
       "      <td>1.731461</td>\n",
       "      <td>-2.067770</td>\n",
       "      <td>-0.307889</td>\n",
       "      <td>0.527422</td>\n",
       "      <td>1</td>\n",
       "    </tr>\n",
       "    <tr>\n",
       "      <th>18268</th>\n",
       "      <td>2.109002</td>\n",
       "      <td>-1.574822</td>\n",
       "      <td>1.731650</td>\n",
       "      <td>-2.080339</td>\n",
       "      <td>-0.307889</td>\n",
       "      <td>0.527422</td>\n",
       "      <td>1</td>\n",
       "    </tr>\n",
       "    <tr>\n",
       "      <th>18269</th>\n",
       "      <td>2.292346</td>\n",
       "      <td>-1.667797</td>\n",
       "      <td>1.731840</td>\n",
       "      <td>-2.062999</td>\n",
       "      <td>-0.307889</td>\n",
       "      <td>0.527422</td>\n",
       "      <td>1</td>\n",
       "    </tr>\n",
       "  </tbody>\n",
       "</table>\n",
       "</div>"
      ],
      "text/plain": [
       "           RHOB        GR  DEPTH_MD      NPHI       PEF       DTC  Cluster\n",
       "18265  1.745819 -1.683564  1.731081 -1.966486 -0.307889  0.527422        1\n",
       "18266  1.789158 -1.605864  1.731271 -1.985785 -0.307889  0.527422        1\n",
       "18267  1.917421 -1.559734  1.731461 -2.067770 -0.307889  0.527422        1\n",
       "18268  2.109002 -1.574822  1.731650 -2.080339 -0.307889  0.527422        1\n",
       "18269  2.292346 -1.667797  1.731840 -2.062999 -0.307889  0.527422        1"
      ]
     },
     "execution_count": 27,
     "metadata": {},
     "output_type": "execute_result"
    }
   ],
   "source": [
    "df['Cluster'] = y_kmeans\n",
    "df.tail()"
   ]
  },
  {
   "cell_type": "code",
   "execution_count": 28,
   "id": "833b0f3e-5a7a-417c-81a6-e3e797fd74a1",
   "metadata": {},
   "outputs": [
    {
     "data": {
      "image/png": "[encoded data removed]",
      "text/plain": [
       "<Figure size 640x480 with 1 Axes>"
      ]
     },
     "metadata": {},
     "output_type": "display_data"
    }
   ],
   "source": [
    " colors = ['r','g','b','y','m']\n",
    "\n",
    "for i in range(4):\n",
    "  cluster_data = X[y_kmeans ==i]\n",
    "  plt.title(\"ScatterPlot\")\n",
    "  plt.scatter(cluster_data['RHOB'],\n",
    "              # cluster_data['GR'],\n",
    "              # cluster_data[\"DEPTH_MD\"],\n",
    "              cluster_data[\"NPHI\"],\n",
    "              # cluster_data[\"PEF\"],\n",
    "              # cluster_data[\"DTC\"],\n",
    "              c=colors[i],\n",
    "              label = f'Cluster{i}')\n",
    "  plt.legend()\n"
   ]
  },
  {
   "cell_type": "code",
   "execution_count": 29,
   "id": "5c73f385-d3a6-4e86-8346-48b72c63b224",
   "metadata": {},
   "outputs": [],
   "source": [
    "# def predict_cluster(RHOB, NPHI):\n",
    "#   new_data = [[RHOB, NPHI]]\n",
    "#   cluster = kmeans.predict(new_data)\n",
    "#   return cluster[0]"
   ]
  },
  {
   "cell_type": "code",
   "execution_count": 30,
   "id": "632b5172-a43d-43d2-a347-8c16bfd70214",
   "metadata": {},
   "outputs": [
    {
     "name": "stdout",
     "output_type": "stream",
     "text": [
      "0.46956380230597633\n"
     ]
    }
   ],
   "source": [
    "from sklearn.metrics import silhouette_score\n",
    "  #Silhouette score of kmeans clustering\n",
    "silhouette_avg1 = silhouette_score(X, y_kmeans)\n",
    "print(silhouette_avg1)"
   ]
  },
  {
   "cell_type": "code",
   "execution_count": 31,
   "id": "b124c488-a45b-440a-81f1-41217126bb97",
   "metadata": {},
   "outputs": [
    {
     "data": {
      "text/html": [
       "<div>\n",
       "<style scoped>\n",
       "    .dataframe tbody tr th:only-of-type {\n",
       "        vertical-align: middle;\n",
       "    }\n",
       "\n",
       "    .dataframe tbody tr th {\n",
       "        vertical-align: top;\n",
       "    }\n",
       "\n",
       "    .dataframe thead th {\n",
       "        text-align: right;\n",
       "    }\n",
       "</style>\n",
       "<table border=\"1\" class=\"dataframe\">\n",
       "  <thead>\n",
       "    <tr style=\"text-align: right;\">\n",
       "      <th></th>\n",
       "      <th>RHOB</th>\n",
       "      <th>DTC</th>\n",
       "    </tr>\n",
       "  </thead>\n",
       "  <tbody>\n",
       "    <tr>\n",
       "      <th>0</th>\n",
       "      <td>-0.759999</td>\n",
       "      <td>1.176153</td>\n",
       "    </tr>\n",
       "    <tr>\n",
       "      <th>1</th>\n",
       "      <td>-0.741163</td>\n",
       "      <td>1.158889</td>\n",
       "    </tr>\n",
       "    <tr>\n",
       "      <th>2</th>\n",
       "      <td>-0.718560</td>\n",
       "      <td>1.144827</td>\n",
       "    </tr>\n",
       "    <tr>\n",
       "      <th>3</th>\n",
       "      <td>-0.734045</td>\n",
       "      <td>1.144036</td>\n",
       "    </tr>\n",
       "    <tr>\n",
       "      <th>4</th>\n",
       "      <td>-0.773944</td>\n",
       "      <td>1.143346</td>\n",
       "    </tr>\n",
       "  </tbody>\n",
       "</table>\n",
       "</div>"
      ],
      "text/plain": [
       "       RHOB       DTC\n",
       "0 -0.759999  1.176153\n",
       "1 -0.741163  1.158889\n",
       "2 -0.718560  1.144827\n",
       "3 -0.734045  1.144036\n",
       "4 -0.773944  1.143346"
      ]
     },
     "execution_count": 31,
     "metadata": {},
     "output_type": "execute_result"
    }
   ],
   "source": [
    "X = df[[\"RHOB\",\"DTC\"]]\n",
    "X.head()"
   ]
  },
  {
   "cell_type": "code",
   "execution_count": 32,
   "id": "10b6114c-25e1-493d-b1af-96eea10df46d",
   "metadata": {},
   "outputs": [],
   "source": [
    "kmeans = KMeans(n_clusters = 2, init = 'k-means++',\n",
    "                max_iter = 500, n_init = 10, random_state = 0)\n",
    "\n",
    "y_kmeans = kmeans.fit_predict(X)"
   ]
  },
  {
   "cell_type": "code",
   "execution_count": 33,
   "id": "4437ef6b-966a-4b01-b4af-2d9b403e1af1",
   "metadata": {},
   "outputs": [
    {
     "data": {
      "text/html": [
       "<div>\n",
       "<style scoped>\n",
       "    .dataframe tbody tr th:only-of-type {\n",
       "        vertical-align: middle;\n",
       "    }\n",
       "\n",
       "    .dataframe tbody tr th {\n",
       "        vertical-align: top;\n",
       "    }\n",
       "\n",
       "    .dataframe thead th {\n",
       "        text-align: right;\n",
       "    }\n",
       "</style>\n",
       "<table border=\"1\" class=\"dataframe\">\n",
       "  <thead>\n",
       "    <tr style=\"text-align: right;\">\n",
       "      <th></th>\n",
       "      <th>RHOB</th>\n",
       "      <th>GR</th>\n",
       "      <th>DEPTH_MD</th>\n",
       "      <th>NPHI</th>\n",
       "      <th>PEF</th>\n",
       "      <th>DTC</th>\n",
       "      <th>Cluster</th>\n",
       "    </tr>\n",
       "  </thead>\n",
       "  <tbody>\n",
       "    <tr>\n",
       "      <th>18265</th>\n",
       "      <td>1.745819</td>\n",
       "      <td>-1.683564</td>\n",
       "      <td>1.731081</td>\n",
       "      <td>-1.966486</td>\n",
       "      <td>-0.307889</td>\n",
       "      <td>0.527422</td>\n",
       "      <td>0</td>\n",
       "    </tr>\n",
       "    <tr>\n",
       "      <th>18266</th>\n",
       "      <td>1.789158</td>\n",
       "      <td>-1.605864</td>\n",
       "      <td>1.731271</td>\n",
       "      <td>-1.985785</td>\n",
       "      <td>-0.307889</td>\n",
       "      <td>0.527422</td>\n",
       "      <td>0</td>\n",
       "    </tr>\n",
       "    <tr>\n",
       "      <th>18267</th>\n",
       "      <td>1.917421</td>\n",
       "      <td>-1.559734</td>\n",
       "      <td>1.731461</td>\n",
       "      <td>-2.067770</td>\n",
       "      <td>-0.307889</td>\n",
       "      <td>0.527422</td>\n",
       "      <td>0</td>\n",
       "    </tr>\n",
       "    <tr>\n",
       "      <th>18268</th>\n",
       "      <td>2.109002</td>\n",
       "      <td>-1.574822</td>\n",
       "      <td>1.731650</td>\n",
       "      <td>-2.080339</td>\n",
       "      <td>-0.307889</td>\n",
       "      <td>0.527422</td>\n",
       "      <td>0</td>\n",
       "    </tr>\n",
       "    <tr>\n",
       "      <th>18269</th>\n",
       "      <td>2.292346</td>\n",
       "      <td>-1.667797</td>\n",
       "      <td>1.731840</td>\n",
       "      <td>-2.062999</td>\n",
       "      <td>-0.307889</td>\n",
       "      <td>0.527422</td>\n",
       "      <td>0</td>\n",
       "    </tr>\n",
       "  </tbody>\n",
       "</table>\n",
       "</div>"
      ],
      "text/plain": [
       "           RHOB        GR  DEPTH_MD      NPHI       PEF       DTC  Cluster\n",
       "18265  1.745819 -1.683564  1.731081 -1.966486 -0.307889  0.527422        0\n",
       "18266  1.789158 -1.605864  1.731271 -1.985785 -0.307889  0.527422        0\n",
       "18267  1.917421 -1.559734  1.731461 -2.067770 -0.307889  0.527422        0\n",
       "18268  2.109002 -1.574822  1.731650 -2.080339 -0.307889  0.527422        0\n",
       "18269  2.292346 -1.667797  1.731840 -2.062999 -0.307889  0.527422        0"
      ]
     },
     "execution_count": 33,
     "metadata": {},
     "output_type": "execute_result"
    }
   ],
   "source": [
    "df['Cluster'] = y_kmeans\n",
    "df.tail()"
   ]
  },
  {
   "cell_type": "code",
   "execution_count": 34,
   "id": "b9a38ddc-9652-4f85-8dfb-ef4f6a2cad07",
   "metadata": {},
   "outputs": [
    {
     "data": {
      "image/png": "[encoded data removed]",
      "text/plain": [
       "<Figure size 640x480 with 1 Axes>"
      ]
     },
     "metadata": {},
     "output_type": "display_data"
    }
   ],
   "source": [
    " colors = ['r','g','b','y','m']\n",
    "\n",
    "for i in range(4):\n",
    "  cluster_data = X[y_kmeans ==i]\n",
    "  plt.title(\"ScatterPlot\")\n",
    "  plt.scatter(cluster_data['RHOB'],\n",
    "              cluster_data[\"DTC\"],\n",
    "              c=colors[i],\n",
    "              label = f'Cluster{i}')\n",
    "  plt.legend()"
   ]
  },
  {
   "cell_type": "code",
   "execution_count": 35,
   "id": "4e803658-87c0-41a2-8758-0fe0b24107a2",
   "metadata": {},
   "outputs": [
    {
     "name": "stdout",
     "output_type": "stream",
     "text": [
      "0.674932309682575\n"
     ]
    }
   ],
   "source": [
    "from sklearn.metrics import silhouette_score\n",
    "  #Silhouette score of kmeans clustering\n",
    "silhouette_avg1 = silhouette_score(X, y_kmeans)\n",
    "print(silhouette_avg1)"
   ]
  },
  {
   "cell_type": "code",
   "execution_count": 38,
   "id": "687c874c-1314-41e3-8968-8065ad6a8958",
   "metadata": {},
   "outputs": [
    {
     "data": {
      "text/html": [
       "<div>\n",
       "<style scoped>\n",
       "    .dataframe tbody tr th:only-of-type {\n",
       "        vertical-align: middle;\n",
       "    }\n",
       "\n",
       "    .dataframe tbody tr th {\n",
       "        vertical-align: top;\n",
       "    }\n",
       "\n",
       "    .dataframe thead th {\n",
       "        text-align: right;\n",
       "    }\n",
       "</style>\n",
       "<table border=\"1\" class=\"dataframe\">\n",
       "  <thead>\n",
       "    <tr style=\"text-align: right;\">\n",
       "      <th></th>\n",
       "      <th>RHOB</th>\n",
       "      <th>GR</th>\n",
       "      <th>DEPTH_MD</th>\n",
       "      <th>NPHI</th>\n",
       "      <th>PEF</th>\n",
       "      <th>DTC</th>\n",
       "      <th>Cluster</th>\n",
       "    </tr>\n",
       "  </thead>\n",
       "  <tbody>\n",
       "    <tr>\n",
       "      <th>RHOB</th>\n",
       "      <td>1.000000</td>\n",
       "      <td>0.180777</td>\n",
       "      <td>0.745932</td>\n",
       "      <td>-0.721365</td>\n",
       "      <td>0.459232</td>\n",
       "      <td>-0.811633</td>\n",
       "      <td>-0.800931</td>\n",
       "    </tr>\n",
       "    <tr>\n",
       "      <th>GR</th>\n",
       "      <td>0.180777</td>\n",
       "      <td>1.000000</td>\n",
       "      <td>0.130395</td>\n",
       "      <td>0.239898</td>\n",
       "      <td>-0.160352</td>\n",
       "      <td>0.087719</td>\n",
       "      <td>-0.032903</td>\n",
       "    </tr>\n",
       "    <tr>\n",
       "      <th>DEPTH_MD</th>\n",
       "      <td>0.745932</td>\n",
       "      <td>0.130395</td>\n",
       "      <td>1.000000</td>\n",
       "      <td>-0.554812</td>\n",
       "      <td>0.556702</td>\n",
       "      <td>-0.822428</td>\n",
       "      <td>-0.799412</td>\n",
       "    </tr>\n",
       "    <tr>\n",
       "      <th>NPHI</th>\n",
       "      <td>-0.721365</td>\n",
       "      <td>0.239898</td>\n",
       "      <td>-0.554812</td>\n",
       "      <td>1.000000</td>\n",
       "      <td>-0.324632</td>\n",
       "      <td>0.831858</td>\n",
       "      <td>0.819590</td>\n",
       "    </tr>\n",
       "    <tr>\n",
       "      <th>PEF</th>\n",
       "      <td>0.459232</td>\n",
       "      <td>-0.160352</td>\n",
       "      <td>0.556702</td>\n",
       "      <td>-0.324632</td>\n",
       "      <td>1.000000</td>\n",
       "      <td>-0.518245</td>\n",
       "      <td>-0.408584</td>\n",
       "    </tr>\n",
       "    <tr>\n",
       "      <th>DTC</th>\n",
       "      <td>-0.811633</td>\n",
       "      <td>0.087719</td>\n",
       "      <td>-0.822428</td>\n",
       "      <td>0.831858</td>\n",
       "      <td>-0.518245</td>\n",
       "      <td>1.000000</td>\n",
       "      <td>0.916164</td>\n",
       "    </tr>\n",
       "    <tr>\n",
       "      <th>Cluster</th>\n",
       "      <td>-0.800931</td>\n",
       "      <td>-0.032903</td>\n",
       "      <td>-0.799412</td>\n",
       "      <td>0.819590</td>\n",
       "      <td>-0.408584</td>\n",
       "      <td>0.916164</td>\n",
       "      <td>1.000000</td>\n",
       "    </tr>\n",
       "  </tbody>\n",
       "</table>\n",
       "</div>"
      ],
      "text/plain": [
       "              RHOB        GR  DEPTH_MD      NPHI       PEF       DTC   Cluster\n",
       "RHOB      1.000000  0.180777  0.745932 -0.721365  0.459232 -0.811633 -0.800931\n",
       "GR        0.180777  1.000000  0.130395  0.239898 -0.160352  0.087719 -0.032903\n",
       "DEPTH_MD  0.745932  0.130395  1.000000 -0.554812  0.556702 -0.822428 -0.799412\n",
       "NPHI     -0.721365  0.239898 -0.554812  1.000000 -0.324632  0.831858  0.819590\n",
       "PEF       0.459232 -0.160352  0.556702 -0.324632  1.000000 -0.518245 -0.408584\n",
       "DTC      -0.811633  0.087719 -0.822428  0.831858 -0.518245  1.000000  0.916164\n",
       "Cluster  -0.800931 -0.032903 -0.799412  0.819590 -0.408584  0.916164  1.000000"
      ]
     },
     "execution_count": 38,
     "metadata": {},
     "output_type": "execute_result"
    }
   ],
   "source": [
    "df.corr()"
   ]
  },
  {
   "cell_type": "code",
   "execution_count": null,
   "id": "c34991e3-efdf-4aff-b09e-17cc00fceffa",
   "metadata": {},
   "outputs": [],
   "source": [
    "#max positive corr for NPHI and DTC"
   ]
  },
  {
   "cell_type": "code",
   "execution_count": 40,
   "id": "0b786943-2775-408f-b539-a4c7698f1107",
   "metadata": {},
   "outputs": [
    {
     "data": {
      "text/html": [
       "<div>\n",
       "<style scoped>\n",
       "    .dataframe tbody tr th:only-of-type {\n",
       "        vertical-align: middle;\n",
       "    }\n",
       "\n",
       "    .dataframe tbody tr th {\n",
       "        vertical-align: top;\n",
       "    }\n",
       "\n",
       "    .dataframe thead th {\n",
       "        text-align: right;\n",
       "    }\n",
       "</style>\n",
       "<table border=\"1\" class=\"dataframe\">\n",
       "  <thead>\n",
       "    <tr style=\"text-align: right;\">\n",
       "      <th></th>\n",
       "      <th>RHOB</th>\n",
       "      <th>GR</th>\n",
       "      <th>DEPTH_MD</th>\n",
       "      <th>NPHI</th>\n",
       "      <th>PEF</th>\n",
       "      <th>DTC</th>\n",
       "      <th>Cluster</th>\n",
       "    </tr>\n",
       "  </thead>\n",
       "  <tbody>\n",
       "    <tr>\n",
       "      <th>18265</th>\n",
       "      <td>1.745819</td>\n",
       "      <td>-1.683564</td>\n",
       "      <td>1.731081</td>\n",
       "      <td>-1.966486</td>\n",
       "      <td>-0.307889</td>\n",
       "      <td>0.527422</td>\n",
       "      <td>1</td>\n",
       "    </tr>\n",
       "    <tr>\n",
       "      <th>18266</th>\n",
       "      <td>1.789158</td>\n",
       "      <td>-1.605864</td>\n",
       "      <td>1.731271</td>\n",
       "      <td>-1.985785</td>\n",
       "      <td>-0.307889</td>\n",
       "      <td>0.527422</td>\n",
       "      <td>1</td>\n",
       "    </tr>\n",
       "    <tr>\n",
       "      <th>18267</th>\n",
       "      <td>1.917421</td>\n",
       "      <td>-1.559734</td>\n",
       "      <td>1.731461</td>\n",
       "      <td>-2.067770</td>\n",
       "      <td>-0.307889</td>\n",
       "      <td>0.527422</td>\n",
       "      <td>1</td>\n",
       "    </tr>\n",
       "    <tr>\n",
       "      <th>18268</th>\n",
       "      <td>2.109002</td>\n",
       "      <td>-1.574822</td>\n",
       "      <td>1.731650</td>\n",
       "      <td>-2.080339</td>\n",
       "      <td>-0.307889</td>\n",
       "      <td>0.527422</td>\n",
       "      <td>1</td>\n",
       "    </tr>\n",
       "    <tr>\n",
       "      <th>18269</th>\n",
       "      <td>2.292346</td>\n",
       "      <td>-1.667797</td>\n",
       "      <td>1.731840</td>\n",
       "      <td>-2.062999</td>\n",
       "      <td>-0.307889</td>\n",
       "      <td>0.527422</td>\n",
       "      <td>1</td>\n",
       "    </tr>\n",
       "  </tbody>\n",
       "</table>\n",
       "</div>"
      ],
      "text/plain": [
       "           RHOB        GR  DEPTH_MD      NPHI       PEF       DTC  Cluster\n",
       "18265  1.745819 -1.683564  1.731081 -1.966486 -0.307889  0.527422        1\n",
       "18266  1.789158 -1.605864  1.731271 -1.985785 -0.307889  0.527422        1\n",
       "18267  1.917421 -1.559734  1.731461 -2.067770 -0.307889  0.527422        1\n",
       "18268  2.109002 -1.574822  1.731650 -2.080339 -0.307889  0.527422        1\n",
       "18269  2.292346 -1.667797  1.731840 -2.062999 -0.307889  0.527422        1"
      ]
     },
     "execution_count": 40,
     "metadata": {},
     "output_type": "execute_result"
    }
   ],
   "source": [
    "X = df[[\"NPHI\",\"DTC\"]]\n",
    "X.head()\n",
    "kmeans = KMeans(n_clusters = 2, init = 'k-means++',\n",
    "                max_iter = 500, n_init = 10, random_state = 0)\n",
    "\n",
    "y_kmeans = kmeans.fit_predict(X)\n",
    "df['Cluster'] = y_kmeans\n",
    "df.tail()"
   ]
  },
  {
   "cell_type": "code",
   "execution_count": 41,
   "id": "04806c18-5476-40d4-ac69-8b958334cb90",
   "metadata": {},
   "outputs": [
    {
     "data": {
      "image/png": "[encoded data removed]",
      "text/plain": [
       "<Figure size 640x480 with 1 Axes>"
      ]
     },
     "metadata": {},
     "output_type": "display_data"
    }
   ],
   "source": [
    " colors = ['r','g','b','y','m']\n",
    "\n",
    "for i in range(2):\n",
    "  cluster_data = X[y_kmeans ==i]\n",
    "  plt.title(\"ScatterPlot\")\n",
    "  plt.scatter(cluster_data['NPHI'],\n",
    "              cluster_data[\"DTC\"],\n",
    "              c=colors[i],\n",
    "              label = f'Cluster{i}')\n",
    "  plt.legend()"
   ]
  },
  {
   "cell_type": "code",
   "execution_count": 42,
   "id": "46b353a3-80a5-433c-918d-aefbd566cd69",
   "metadata": {},
   "outputs": [
    {
     "name": "stdout",
     "output_type": "stream",
     "text": [
      "0.7042718955974755\n"
     ]
    }
   ],
   "source": [
    "from sklearn.metrics import silhouette_score\n",
    "  #Silhouette score of kmeans clustering\n",
    "silhouette_avg1 = silhouette_score(X, y_kmeans)\n",
    "print(silhouette_avg1)"
   ]
  },
  {
   "cell_type": "code",
   "execution_count": 44,
   "id": "234fa0c8-aee2-4dce-b080-125d7004f5b5",
   "metadata": {},
   "outputs": [],
   "source": [
    "#max silhouette_score obtained when taking NPHI and DTC as cluster data, n_cluster = 2 and iteration 500"
   ]
  },
  {
   "cell_type": "code",
   "execution_count": 45,
   "id": "0cae168d-e8d1-4589-9fab-2dd579b455bd",
   "metadata": {},
   "outputs": [
    {
     "data": {
      "text/html": [
       "<div>\n",
       "<style scoped>\n",
       "    .dataframe tbody tr th:only-of-type {\n",
       "        vertical-align: middle;\n",
       "    }\n",
       "\n",
       "    .dataframe tbody tr th {\n",
       "        vertical-align: top;\n",
       "    }\n",
       "\n",
       "    .dataframe thead th {\n",
       "        text-align: right;\n",
       "    }\n",
       "</style>\n",
       "<table border=\"1\" class=\"dataframe\">\n",
       "  <thead>\n",
       "    <tr style=\"text-align: right;\">\n",
       "      <th></th>\n",
       "      <th>RHOB</th>\n",
       "      <th>GR</th>\n",
       "      <th>DEPTH_MD</th>\n",
       "      <th>NPHI</th>\n",
       "      <th>PEF</th>\n",
       "      <th>DTC</th>\n",
       "      <th>Cluster</th>\n",
       "    </tr>\n",
       "  </thead>\n",
       "  <tbody>\n",
       "    <tr>\n",
       "      <th>18265</th>\n",
       "      <td>1.745819</td>\n",
       "      <td>-1.683564</td>\n",
       "      <td>1.731081</td>\n",
       "      <td>-1.966486</td>\n",
       "      <td>-0.307889</td>\n",
       "      <td>0.527422</td>\n",
       "      <td>2</td>\n",
       "    </tr>\n",
       "    <tr>\n",
       "      <th>18266</th>\n",
       "      <td>1.789158</td>\n",
       "      <td>-1.605864</td>\n",
       "      <td>1.731271</td>\n",
       "      <td>-1.985785</td>\n",
       "      <td>-0.307889</td>\n",
       "      <td>0.527422</td>\n",
       "      <td>2</td>\n",
       "    </tr>\n",
       "    <tr>\n",
       "      <th>18267</th>\n",
       "      <td>1.917421</td>\n",
       "      <td>-1.559734</td>\n",
       "      <td>1.731461</td>\n",
       "      <td>-2.067770</td>\n",
       "      <td>-0.307889</td>\n",
       "      <td>0.527422</td>\n",
       "      <td>2</td>\n",
       "    </tr>\n",
       "    <tr>\n",
       "      <th>18268</th>\n",
       "      <td>2.109002</td>\n",
       "      <td>-1.574822</td>\n",
       "      <td>1.731650</td>\n",
       "      <td>-2.080339</td>\n",
       "      <td>-0.307889</td>\n",
       "      <td>0.527422</td>\n",
       "      <td>2</td>\n",
       "    </tr>\n",
       "    <tr>\n",
       "      <th>18269</th>\n",
       "      <td>2.292346</td>\n",
       "      <td>-1.667797</td>\n",
       "      <td>1.731840</td>\n",
       "      <td>-2.062999</td>\n",
       "      <td>-0.307889</td>\n",
       "      <td>0.527422</td>\n",
       "      <td>2</td>\n",
       "    </tr>\n",
       "  </tbody>\n",
       "</table>\n",
       "</div>"
      ],
      "text/plain": [
       "           RHOB        GR  DEPTH_MD      NPHI       PEF       DTC  Cluster\n",
       "18265  1.745819 -1.683564  1.731081 -1.966486 -0.307889  0.527422        2\n",
       "18266  1.789158 -1.605864  1.731271 -1.985785 -0.307889  0.527422        2\n",
       "18267  1.917421 -1.559734  1.731461 -2.067770 -0.307889  0.527422        2\n",
       "18268  2.109002 -1.574822  1.731650 -2.080339 -0.307889  0.527422        2\n",
       "18269  2.292346 -1.667797  1.731840 -2.062999 -0.307889  0.527422        2"
      ]
     },
     "execution_count": 45,
     "metadata": {},
     "output_type": "execute_result"
    }
   ],
   "source": [
    "X = df[[\"NPHI\",\"GR\"]]\n",
    "X.head()\n",
    "kmeans = KMeans(n_clusters = 3, init = 'k-means++',\n",
    "                max_iter = 500, n_init = 10, random_state = 0)\n",
    "\n",
    "y_kmeans = kmeans.fit_predict(X)\n",
    "df['Cluster'] = y_kmeans\n",
    "df.tail()"
   ]
  },
  {
   "cell_type": "code",
   "execution_count": 46,
   "id": "3b7f5d93-b87f-4858-9340-ef862f92c280",
   "metadata": {},
   "outputs": [
    {
     "data": {
      "image/png": "[encoded data removed]",
      "text/plain": [
       "<Figure size 640x480 with 1 Axes>"
      ]
     },
     "metadata": {},
     "output_type": "display_data"
    }
   ],
   "source": [
    " colors = ['r','g','b','y','m']\n",
    "\n",
    "for i in range(2):\n",
    "  cluster_data = X[y_kmeans ==i]\n",
    "  plt.title(\"ScatterPlot\")\n",
    "  plt.scatter(cluster_data['NPHI'],\n",
    "              cluster_data[\"GR\"],\n",
    "              c=colors[i],\n",
    "              label = f'Cluster{i}')\n",
    "  plt.legend()"
   ]
  },
  {
   "cell_type": "code",
   "execution_count": 47,
   "id": "f971b23c-7802-461c-ac0d-751c5ff3545a",
   "metadata": {},
   "outputs": [
    {
     "name": "stdout",
     "output_type": "stream",
     "text": [
      "0.5118726763522705\n"
     ]
    }
   ],
   "source": [
    "from sklearn.metrics import silhouette_score\n",
    "  #Silhouette score of kmeans clustering\n",
    "silhouette_avg1 = silhouette_score(X, y_kmeans)\n",
    "print(silhouette_avg1)"
   ]
  }
 ],
 "metadata": {
  "kernelspec": {
   "display_name": "Python 3 (ipykernel)",
   "language": "python",
   "name": "python3"
  },
  "language_info": {
   "codemirror_mode": {
    "name": "ipython",
    "version": 3
   },
   "file_extension": ".py",
   "mimetype": "text/x-python",
   "name": "python",
   "nbconvert_exporter": "python",
   "pygments_lexer": "ipython3",
   "version": "3.11.7"
  }
 },
 "nbformat": 4,
 "nbformat_minor": 5
}
